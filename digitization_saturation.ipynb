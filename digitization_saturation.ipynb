{
 "cells": [
  {
   "cell_type": "code",
   "execution_count": 36,
   "id": "wrapped-beverage",
   "metadata": {},
   "outputs": [
    {
     "name": "stdout",
     "output_type": "stream",
     "text": [
      "omega = 0.000117\n",
      "Opening file /home/giulia/Physics/CYGNO/gain/CYGNO_60_40_ER_6_keV_part0.root\n"
     ]
    }
   ],
   "source": [
    "import os\n",
    "import math\n",
    "import optparse\n",
    "import time\n",
    "import sys\n",
    "import numpy as np\n",
    "from scipy.stats import expon\n",
    "from scipy.stats import poisson\n",
    "from scipy import stats  \n",
    "import matplotlib.pyplot as plt\n",
    "import matplotlib.mlab as mlab\n",
    "from mpl_toolkits.mplot3d import Axes3D\n",
    "import root_numpy as rn\n",
    "import ROOT as rt\n",
    "\n",
    "\n",
    "from time import perf_counter\n",
    "import gc\n",
    "\n",
    "#energyDep_hit = 6 #keV\n",
    "ion_pot = 0.0462 #keV\n",
    "#GEM_gain = 123\n",
    "GEM1_HV = 420\n",
    "GEM2_HV = 440\n",
    "GEM3_HV = 440\n",
    "\n",
    "GEM1_gain = 0.0347*np.exp((0.0209)*GEM1_HV) #400 #330\n",
    "GEM2_gain = 0.0347*np.exp((0.0209)*GEM2_HV) #400 #330\n",
    "GEM3_gain = 0.0347*np.exp((0.0209)*GEM3_HV) #400 #330\n",
    "\n",
    "extraction_eff = 0.37\n",
    "\n",
    "## from https://arxiv.org/pdf/2007.00608.pdf field 0.5 kV/cm\n",
    "diff_const_sigma0T = 0.0784  # diffusion constant [mm]^2\n",
    "diff_coeff_T = 0.0196        # diffusion parameter [mm/sqrt(cm)]^2\n",
    "diff_const_sigma0L = 0.0676\n",
    "diff_coeff_L = 0.0144\n",
    "\n",
    "\n",
    "z_gem = 455. #mm\n",
    "\n",
    "x_dim = 350 #mm\n",
    "y_dim = 350 #mm\n",
    "x_pix = 2304\n",
    "y_pix = 2304\n",
    "z_vox_dim = 0.1 #mm\n",
    "\n",
    "sensor_size = 14.976 #mm\n",
    "camera_aperture = 0.95\n",
    "\n",
    "photons_per_el = 0.07\n",
    "counts_per_photon = 2\n",
    "demag=y_dim/sensor_size\n",
    "a=camera_aperture\n",
    "omega=1./math.pow((4*(demag+1)*a),2)   # solid angle ratio\n",
    "print(\"omega = %f\"% omega)\n",
    "\n",
    "A = 1./0.68\n",
    "beta = 2.5e-5\n",
    "absorption_l = 1000 #mm\n",
    "\n",
    "saturation = 1\n",
    " \n",
    "\n",
    "print(\"Opening file /home/giulia/Physics/CYGNO/gain/CYGNO_60_40_ER_6_keV_part0.root\")\n",
    "inputfile = rt.TFile.Open(\"/home/giulia/Physics/CYGNO/gain/CYGNO_60_40_ER_6_keV_part0.root\")\n",
    "tree = inputfile.Get(\"nTuple\")\n",
    "\n",
    "def NelGEM2(energyDep,z_hit):\n",
    "    n_ioniz_el=(energyDep/ion_pot)\n",
    "    drift_l = np.abs(z_hit-z_gem)\n",
    "    #print(\"distance from the gem %d mm\"%drift_l)\n",
    "    n_ioniz_el_mean = n_ioniz_el*np.exp(-drift_l/absorption_l) \n",
    "    primary=poisson(n_ioniz_el_mean)           # poisson distribution for primary electrons\n",
    "    n_ioniz_el=primary.rvs()                   # number of primary electrons\n",
    "    #n_ioniz_el=n_ioniz_el_mean\n",
    "    #n_ioniz_el_array = np.append(n_ioniz_el_array,n_ioniz_el)\n",
    "    #print('n ionization electrons = %d'%(n_ioniz_el))\n",
    "    n_el_oneGEM=0                              # number of secondary electrons\n",
    "    gain1=expon(loc=0,scale=GEM1_gain)  # exponential distribution for the GAIN in the first GEM foil\n",
    "    for k in range(0,n_ioniz_el):\n",
    "        nsec = gain1.rvs()*extraction_eff      # number of secondary electrons in the first GEM multiplication for each ionization electron\n",
    "        n_el_oneGEM += nsec\n",
    "        #nsec_1GEM_array = np.append(nsec_1GEM_array,nsec)\n",
    "        #print ('--   loop on ioniz el, k= %d - nsec= %d - nel_onegem= %d'%(k,nsec,n_el_oneGEM))\n",
    "\n",
    "    # total number of secondary electrons considering the gain in the 2nd GEM foil\n",
    "    n_tot_el=n_el_oneGEM*GEM2_gain*extraction_eff\n",
    "    #print(\"Electrons after 2nd GEM: %d\"%n_tot_el)\n",
    "\n",
    "\n",
    "    return n_tot_el\n",
    "\n",
    "def cloud_smearing3D(x_hit,y_hit,z_hit,energyDep_hit):\n",
    "    X=list(); Y=list(); Z=list() \n",
    "    X*=0; Y*=0; Z*=0\n",
    "    nel=NelGEM2(energyDep_hit,z_hit)\n",
    "\n",
    "    ## arrays of positions of produced electrons after GEM2\n",
    "    X=(np.random.normal(loc=(x_hit), scale=np.sqrt(diff_const_sigma0T+diff_coeff_T*(np.abs(z_hit-z_gem))/10.), size=int(nel)))\n",
    "    Y=(np.random.normal(loc=(y_hit), scale=np.sqrt(diff_const_sigma0T+diff_coeff_T*(np.abs(z_hit-z_gem))/10.), size=int(nel)))\n",
    "    Z=(np.random.normal(loc=(z_hit-255.), scale=np.sqrt(diff_const_sigma0L+diff_coeff_L*(np.abs(z_hit-z_gem))/10.), size=int(nel)))   \n",
    "    #print(\"distance from the GEM : %f cm\"%((np.abs(z_hit-z_gem))/10.))\n",
    "    return X, Y, Z\n",
    "\n",
    "def ph_smearing2D(x_hit,y_hit,z_hit,energyDep_hit):\n",
    "    X=list(); Y=list()\n",
    "    X*=0; Y*=0\n",
    "    ## electrons in GEM2\n",
    "    nel = NelGEM2(energyDep_hit,z_hit)\n",
    "    ## photons in GEM3\n",
    "    nph = nel * GEM3_gain *omega * photons_per_el * counts_per_photon\n",
    "    ## arrays of positions of produced photons\n",
    "    X=(np.random.normal(loc=(x_hit), scale=np.sqrt(diff_const_sigma0T+diff_coeff_T*(np.abs(z_hit-z_gem))/10.), size=int(nph)))\n",
    "    Y=(np.random.normal(loc=(y_hit), scale=np.sqrt(diff_const_sigma0T+diff_coeff_T*(np.abs(z_hit-z_gem))/10.), size=int(nph)))\n",
    "    return X, Y\n",
    "\n",
    "    \n",
    "def Nph_saturation(histo_cloud):\n",
    "    Nph_array = np.zeros((histo_cloud.GetNbinsX(),histo_cloud.GetNbinsY()))\n",
    "    Nph_tot = 0\n",
    "    for i in range(1120,1180):\n",
    "        for j in range(1120,1180):\n",
    "            hout = 0\n",
    "            for k in range(1,histo_cloud.GetNbinsZ()+1):\n",
    "                hin = histo_cloud.GetBinContent(i,j,k)\n",
    "                #electrons = poisson(hin)\n",
    "                #nel_in = electrons.rvs() \n",
    "                nel_in = hin\n",
    "                #if nel_in==0:\n",
    "                #    continue\n",
    "                #else:\n",
    "                #print(hin)\n",
    "                ## sum voxels along z\n",
    "                #gain3=expon(loc=0,scale=GEM_gain)  # exponential distribution for the GAIN of 3rd GEM\n",
    "                #gain_rnd = gain3.rvs()     \n",
    "                #print(\"gain extracted = %d\"%gain_rnd)\n",
    "                hout += (nel_in * A * GEM3_gain)/(1 + beta * GEM3_gain  * nel_in) \n",
    "                #print(1 + beta * GEM_gain  * nel_in)\n",
    "                #hout += (nel_in * A * gain_rnd)/(1 + beta * gain_rnd  * nel_in) \n",
    "                \n",
    "\n",
    "            nmean_ph= hout * omega * photons_per_el * counts_per_photon     # mean total number of photons\n",
    "            photons=poisson(nmean_ph)                    # poisson distribution for photons\n",
    "            n_ph=photons.rvs()  \n",
    "            Nph_array[i-1][j-1] = n_ph\n",
    "            Nph_tot += Nph_array[i-1][j-1]\n",
    "            #if hout>0:\n",
    "            #    print(\"number final electrons per voxel: %f\"%hout)\n",
    "            \n",
    "    return Nph_tot, Nph_array\n",
    "\n",
    "\n"
   ]
  },
  {
   "cell_type": "code",
   "execution_count": 38,
   "id": "registered-projector",
   "metadata": {},
   "outputs": [
    {
     "name": "stdout",
     "output_type": "stream",
     "text": [
      "Processing event 0\n",
      "tot num of sensor counts after GEM3 including saturation: 4561\n",
      "tot num of sensor counts after GEM3 without saturation: 10425\n",
      "Gain GEM3 = 342.059401   Gain GEM3 saturated = 220.070629\n",
      "Time event 9 s\n"
     ]
    },
    {
     "name": "stderr",
     "output_type": "stream",
     "text": [
      "Warning in <TFile::Append>: Replacing existing TH1: histo_cloud_pic_0 (Potential memory leak).\n"
     ]
    }
   ],
   "source": [
    "#nph_array = np.zeros(tree.GetEntries())\n",
    "nph_array = np.zeros(1)\n",
    "nph_nosat = np.zeros(1)\n",
    "\n",
    "#for iev in range(0,tree.GetEntries()):\n",
    "for iev in range(0,1):\n",
    "    t1_start = perf_counter() \n",
    "\n",
    "    tree.GetEntry(iev)\n",
    "    if (iev%10==0): \n",
    "        print(\"Processing event %d\"%iev)\n",
    "    numhits = tree.numhits\n",
    "\n",
    "    histname = \"histo_cloud_pic_\"+str(int(iev)) \n",
    "    histo_cloud = rt.TH3I(histname,\"\",x_pix,0,x_pix-1,y_pix,0,y_pix-1,100,0,100)\n",
    "    #histo_cloud_draw = rt.TH2I(\"histoclouddraw\"+str(int(iev)),\"\",60,1120,1180,60,1120,1180) #100,0,100)\n",
    "\n",
    "    #print(\"created histo_cloud\")\n",
    "    \n",
    "    ## with saturation\n",
    "    if (saturation>0):\n",
    "        tot_el_G2 = 0\n",
    "        for ihit in range(0,tree.numhits):\n",
    "            #print(\"Processing hit %d of %d\"%(ihit,tree.numhits))\n",
    "\n",
    "            ## here swapping X with Z beacuse in geant the drift axis is X\n",
    "            S3D = cloud_smearing3D(tree.z_hits[ihit],tree.y_hits[ihit],tree.x_hits[ihit],tree.energyDep_hits[ihit])\n",
    "\n",
    "            for j in range(0, len(S3D[0])):\n",
    "                histo_cloud.Fill((0.5*x_dim+S3D[0][j])*x_pix/x_dim, (0.5*y_dim+S3D[1][j])*y_pix/y_dim, (0.5*histo_cloud.GetNbinsZ()*z_vox_dim+S3D[2][j])/z_vox_dim ) \n",
    "                #histo_cloud_draw.Fill((0.5*x_dim+S3D[0][j])*x_pix/x_dim,(0.5*y_dim+S3D[1][j])*y_pix/y_dim) # (0.5*histo_cloud.GetNbinsZ()*z_vox_dim+S3D[2][j])/z_vox_dim)    \n",
    "                tot_el_G2+=1\n",
    "                \n",
    "        #tot_el_G2 = histo_cloud.Integral()\n",
    "    \n",
    "        # 2d map of photons applying saturation effect\n",
    "        result_GEM3 = Nph_saturation(histo_cloud)\n",
    "        array2d_Nph = result_GEM3[1]\n",
    "        tot_ph_G3 = result_GEM3[0] #np.sum(array2d_Nph)\n",
    "\n",
    "        print(\"tot num of sensor counts after GEM3 including saturation: %d\"%(tot_ph_G3))\n",
    "        print(\"tot num of sensor counts after GEM3 without saturation: %d\"%(A*tot_el_G2*GEM_gain* omega * photons_per_el * counts_per_photon))\n",
    "        print(\"Gain GEM3 = %f   Gain GEM3 saturated = %f\"%(GEM_gain, tot_ph_G3/(tot_el_G2*omega * photons_per_el * counts_per_photon) ))   \n",
    "\n",
    "    ## no saturation\n",
    "    else:\n",
    "        tot_ph_G3=0\n",
    "        for ihit in range(0,tree.numhits):\n",
    "            ## here swapping X with Z beacuse in geant the drift axis is X\n",
    "            S2D = ph_smearing2D(tree.z_hits[ihit],tree.y_hits[ihit],tree.x_hits[ihit],tree.energyDep_hits[ihit])\n",
    "            \n",
    "            #for j in range(0, len(S2D[0])):\n",
    "            for t in range(0, len(S2D[0])):\n",
    "                tot_ph_G3+=1\n",
    "\n",
    "        #print(\"tot num of sensor counts after GEM3 without saturation: %d\"%(tot_ph_G3))\n",
    "\n",
    "       \n",
    "\n",
    "    nph_array[iev] = tot_ph_G3\n",
    "    nph_nosat[iev] = tot_el_G2*GEM_gain* omega * photons_per_el * counts_per_photon\n",
    "    t1_stop = perf_counter() \n",
    "    \n",
    "    print(\"Time event %d s\"%(t1_stop-t1_start))"
   ]
  },
  {
   "cell_type": "code",
   "execution_count": 39,
   "id": "prescription-silly",
   "metadata": {},
   "outputs": [
    {
     "name": "stdout",
     "output_type": "stream",
     "text": [
      "created final_image\n"
     ]
    },
    {
     "name": "stderr",
     "output_type": "stream",
     "text": [
      "Warning in <TCanvas::Constructor>: Deleting canvas with same name: c\n",
      "Warning in <TCanvas::Constructor>: Deleting canvas with same name: c2\n"
     ]
    },
    {
     "data": {
      "image/png": "[encoded data removed]",
      "text/plain": [
       "<IPython.core.display.Image object>"
      ]
     },
     "metadata": {},
     "output_type": "display_data"
    },
    {
     "data": {
      "image/png": "[encoded data removed]",
      "text/plain": [
       "<IPython.core.display.Image object>"
      ]
     },
     "metadata": {},
     "output_type": "display_data"
    }
   ],
   "source": [
    "rt.gStyle.SetCanvasPreferGL(1);\n",
    "\n",
    "## create final image\n",
    "final_image=rt.TH2I('pic_run1_ev'+str(iev), '', x_pix, 0, x_pix-1, y_pix, 0, y_pix-1)\n",
    "print(\"created final_image\")\n",
    "final_image=rn.array2hist(array2d_Nph, final_image)\n",
    "    \n",
    "c = rt.TCanvas(\"c\",\"\",500,500)\n",
    "final_image.GetXaxis().SetRangeUser(1120,1180)\n",
    "final_image.GetYaxis().SetRangeUser(1120,1180)\n",
    "\n",
    "final_image.Draw(\"colz\")\n",
    "c.Draw()\n",
    "\n",
    "c2 = rt.TCanvas(\"c2\",\"\",500,500)\n",
    "histo_cloud.GetXaxis().SetRangeUser(1100,1200)\n",
    "histo_cloud.GetYaxis().SetRangeUser(1100,1200)\n",
    "histo_cloud.GetZaxis().SetRangeUser(0,100)\n",
    "hX = histo_cloud.ProjectionX()\n",
    "\n",
    "histo_cloud.Draw(\"box2z\")\n",
    "#hX.Draw()\n",
    "c2.Draw()"
   ]
  },
  {
   "cell_type": "code",
   "execution_count": 40,
   "id": "elder-consultancy",
   "metadata": {},
   "outputs": [
    {
     "name": "stderr",
     "output_type": "stream",
     "text": [
      "/home/giulia/.local/lib/python3.9/site-packages/scipy/stats/_distn_infrastructure.py:1835: RuntimeWarning: invalid value encountered in true_divide\n",
      "  x = np.asarray((x - loc)/scale, dtype=dtyp)\n"
     ]
    },
    {
     "data": {
      "image/png": "[encoded data removed]",
      "text/plain": [
       "<Figure size 432x288 with 1 Axes>"
      ]
     },
     "metadata": {
      "needs_background": "light"
     },
     "output_type": "display_data"
    },
    {
     "name": "stdout",
     "output_type": "stream",
     "text": [
      "mean = 4561, sigma = 0, resolution = 0.000000\n"
     ]
    }
   ],
   "source": [
    "  \n",
    "\n",
    "#fig, ax = plt.subplots()\n",
    "num_bins = 20\n",
    "\n",
    "## the histogram of the data\n",
    "##n, bins, patches = ax.hist(nph_array, num_bins, density=True)\n",
    "plt.hist(nph_array, num_bins, density=True)\n",
    "\n",
    "# best fit of data\n",
    "m, s = stats.norm.fit(nph_array) # get mean and standard deviation  \n",
    "xmin, xmax = min(nph_array), max(nph_array)  \n",
    "lnspc = np.linspace(xmin, xmax, len(nph_array))\n",
    "pdf_g = stats.norm.pdf(lnspc, m, s) # now get theoretical values in our interval  \n",
    "plt.plot(lnspc, pdf_g, label=\"Norm\") # plot it\n",
    "\n",
    "\n",
    "## Tweak spacing to prevent clipping of ylabel\n",
    "##fig.tight_layout()array2d_NelGEM3\n",
    "\n",
    "plt.xlabel('Sensor counts')\n",
    "plt.ylabel('')\n",
    "plt.show()\n",
    "\n",
    "print(\"mean = %d, sigma = %d, resolution = %f\"%(m,s,s/m))\n",
    "\n",
    "\n",
    "\n",
    "##print(nsec_1GEM_array)\n",
    "#plt.hist(nsec_1GEM_array,num_bins, density=True)\n",
    "##plt.xlim(xmin=0, xmax = 1000)\n",
    "##plt.ylim(ymin=0, ymax = 10000)\n",
    "#EXP = expon.fit(nsec_1GEM_array, floc=0)\n",
    "#print(EXP)\n",
    "#xmin, xmax = min(nsec_1GEM_array), max(nsec_1GEM_array)\n",
    "#lnspc2 = np.linspace(0, 600, 100)\n",
    "##print(lnspc2)\n",
    "#pdf_exp = stats.expon.pdf(lnspc2,*EXP)\n",
    "#plt.plot(lnspc2, pdf_exp, label=\"exp\")\n",
    "\n",
    "#plt.show()"
   ]
  },
  {
   "cell_type": "code",
   "execution_count": 41,
   "id": "liked-canal",
   "metadata": {},
   "outputs": [
    {
     "name": "stderr",
     "output_type": "stream",
     "text": [
      "/home/giulia/.local/lib/python3.9/site-packages/scipy/stats/_distn_infrastructure.py:1835: RuntimeWarning: invalid value encountered in true_divide\n",
      "  x = np.asarray((x - loc)/scale, dtype=dtyp)\n"
     ]
    },
    {
     "data": {
      "image/png": "[encoded data removed]",
      "text/plain": [
       "<Figure size 432x288 with 1 Axes>"
      ]
     },
     "metadata": {
      "needs_background": "light"
     },
     "output_type": "display_data"
    },
    {
     "name": "stdout",
     "output_type": "stream",
     "text": [
      "mean = 7089, sigma = 0, resolution = 0.000000\n"
     ]
    }
   ],
   "source": [
    "#fig, ax = plt.subplots()\n",
    "num_bins = 20\n",
    "\n",
    "## the histogram of the data\n",
    "##n, bins, patches = ax.hist(nph_array, num_bins, density=True)\n",
    "plt.hist(nph_nosat, num_bins, density=True)\n",
    "\n",
    "# best fit of data\n",
    "m, s = stats.norm.fit(nph_nosat) # get mean and standard deviation  \n",
    "xmin, xmax = min(nph_nosat), max(nph_nosat)  \n",
    "lnspc = np.linspace(xmin, xmax, len(nph_nosat))\n",
    "pdf_g = stats.norm.pdf(lnspc, m, s) # now get theoretical values in our interval  \n",
    "plt.plot(lnspc, pdf_g, label=\"Norm\") # plot it\n",
    "\n",
    "\n",
    "## Tweak spacing to prevent clipping of ylabel\n",
    "##fig.tight_layout()array2d_NelGEM3\n",
    "\n",
    "plt.xlabel('Sensor counts')\n",
    "plt.ylabel('')\n",
    "plt.show()\n",
    "\n",
    "print(\"mean = %d, sigma = %d, resolution = %f\"%(m,s,s/m))"
   ]
  },
  {
   "cell_type": "code",
   "execution_count": null,
   "id": "alive-morocco",
   "metadata": {},
   "outputs": [],
   "source": []
  },
  {
   "cell_type": "code",
   "execution_count": null,
   "id": "honey-mistake",
   "metadata": {},
   "outputs": [],
   "source": []
  }
 ],
 "metadata": {
  "kernelspec": {
   "display_name": "Python 3",
   "language": "python",
   "name": "python3"
  },
  "language_info": {
   "codemirror_mode": {
    "name": "ipython",
    "version": 3
   },
   "file_extension": ".py",
   "mimetype": "text/x-python",
   "name": "python",
   "nbconvert_exporter": "python",
   "pygments_lexer": "ipython3",
   "version": "3.9.4"
  }
 },
 "nbformat": 4,
 "nbformat_minor": 5
}
