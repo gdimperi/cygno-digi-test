{
 "cells": [
  {
   "cell_type": "code",
   "execution_count": 43,
   "id": "wrapped-beverage",
   "metadata": {},
   "outputs": [
    {
     "data": {
      "image/png": "[encoded data removed]",
      "text/plain": [
       "<Figure size 432x288 with 1 Axes>"
      ]
     },
     "metadata": {
      "needs_background": "light"
     },
     "output_type": "display_data"
    },
    {
     "name": "stdout",
     "output_type": "stream",
     "text": [
      "mean = 14795, sigma = 1819, resolution = 0.123011\n"
     ]
    }
   ],
   "source": [
    "import os\n",
    "import math\n",
    "import optparse\n",
    "import time\n",
    "import sys\n",
    "import numpy as np\n",
    "from scipy.stats import expon\n",
    "from scipy.stats import poisson\n",
    "from scipy import stats  \n",
    "import matplotlib.pyplot as plt\n",
    "import matplotlib.mlab as mlab\n",
    "\n",
    "\n",
    "energyDep_hit = 6 #keV\n",
    "ion_pot = 0.0462 #keV\n",
    "#GEM_gain = 123\n",
    "GEM_gain = 400 #330\n",
    "extraction_eff = 0.33\n",
    "\n",
    "photons_per_el = 0.07\n",
    "counts_per_photon = 2\n",
    "\n",
    "y_dim = 350 #mm\n",
    "sensor_size = 14.976 #mm\n",
    "camera_aperture = 0.95\n",
    "\n",
    "\n",
    "n_ioniz_el_mean=round(energyDep_hit/ion_pot) \n",
    "#n_ioniz_el_mean=(energyDep_hit/ion_pot) \n",
    "\n",
    "nph_array = np.zeros(1000)\n",
    "nsec_1GEM_array = np.array([])\n",
    "n_ioniz_el_array = np.array([])\n",
    "\n",
    "for run in range(0,1000):\n",
    "    primary=poisson(n_ioniz_el_mean)           # poisson distribution for primary electrons\n",
    "    n_ioniz_el=primary.rvs()                   # number of primary electrons\n",
    "    #n_ioniz_el=n_ioniz_el_mean\n",
    "    n_ioniz_el_array = np.append(n_ioniz_el_array,n_ioniz_el)\n",
    "    #print('n ionization electrons = %d'%(n_ioniz_el))\n",
    "    n_el_oneGEM=0                              # number of secondary electrons\n",
    "    gain2=expon(loc=0,scale=GEM_gain)  # exponential distribution for the GAIN in the first GEM foil\n",
    "    for k in range(0,n_ioniz_el):\n",
    "        #nsec_mean = gain2.rvs()*extraction_eff                   # number of secondary electrons in the first GEM multiplication for each ionization electron\n",
    "        #nsec_pdf = poisson(nsec_mean)\n",
    "        #nsec=nsec_pdf.rvs()\n",
    "        nsec = gain2.rvs()*extraction_eff\n",
    "        n_el_oneGEM += nsec\n",
    "        nsec_1GEM_array = np.append(nsec_1GEM_array,nsec)\n",
    "\n",
    "        #print ('--   loop on ioniz el, k= %d - nsec= %d - nel_onegem= %d'%(k,nsec,n_el_oneGEM))\n",
    "\n",
    "    #n_tot_el=n_el_oneGEM*pow(GEM_gain,2)  # total number of secondary electrons considering the gain in the 2nd and 3rd GEM foils\n",
    "    n_tot_el=n_el_oneGEM*GEM_gain*GEM_gain*extraction_eff #do not use extraction_eff for last gem\n",
    "    #print('--total number of electron = %d'%(n_tot_el))\n",
    "    nmean_tot_ph=n_tot_el*photons_per_el       # mean total number of photons\n",
    "    photons=poisson(nmean_tot_ph)                    # poisson distribution for photons\n",
    "    n_tot_ph=photons.rvs()                   # number of total photons\n",
    "    #n_tot_ph=nmean_tot_ph\n",
    "    \n",
    "    demag=y_dim/sensor_size\n",
    "    a=camera_aperture\n",
    "    omega=1./math.pow((4*(demag+1)*a),2)   # solid angle ratio\n",
    "    #print(omega)\n",
    "    n_photons=n_tot_ph*omega               # number of photons in the sensor  \n",
    "    nph = n_photons*counts_per_photon\n",
    "    nph_array[run] = nph\n",
    "    \n",
    "#print(nph_array)\n",
    "    \n",
    "#fig, ax = plt.subplots()\n",
    "num_bins = 60\n",
    "\n",
    "# the histogram of the data\n",
    "#n, bins, patches = ax.hist(nph_array, num_bins, density=True)\n",
    "plt.hist(nph_array, num_bins, density=True)\n",
    "\n",
    "# best fit of data\n",
    "m, s = stats.norm.fit(nph_array) # get mean and standard deviation  \n",
    "xmin, xmax = min(nph_array), max(nph_array)  \n",
    "lnspc = np.linspace(xmin, xmax, len(nph_array))\n",
    "pdf_g = stats.norm.pdf(lnspc, m, s) # now get theoretical values in our interval  \n",
    "plt.plot(lnspc, pdf_g, label=\"Norm\") # plot it\n",
    "\n",
    "\n",
    "# Tweak spacing to prevent clipping of ylabel\n",
    "#fig.tight_layout()\n",
    "\n",
    "plt.xlabel('Sensor counts')\n",
    "plt.ylabel('')\n",
    "plt.show()\n",
    "\n",
    "print(\"mean = %d, sigma = %d, resolution = %f\"%(m,s,s/m))\n"
   ]
  },
  {
   "cell_type": "code",
   "execution_count": 44,
   "id": "registered-projector",
   "metadata": {},
   "outputs": [
    {
     "name": "stdout",
     "output_type": "stream",
     "text": [
      "(0.0, 131.71574894316035)\n"
     ]
    },
    {
     "data": {
      "image/png": "[encoded data removed]",
      "text/plain": [
       "<Figure size 432x288 with 1 Axes>"
      ]
     },
     "metadata": {
      "needs_background": "light"
     },
     "output_type": "display_data"
    }
   ],
   "source": [
    "#print(nsec_1GEM_array)\n",
    "plt.hist(nsec_1GEM_array,num_bins, density=True)\n",
    "#plt.xlim(xmin=0, xmax = 1000)\n",
    "#plt.ylim(ymin=0, ymax = 10000)\n",
    "EXP = expon.fit(nsec_1GEM_array, floc=0)\n",
    "print(EXP)\n",
    "xmin, xmax = min(nsec_1GEM_array), max(nsec_1GEM_array)\n",
    "lnspc2 = np.linspace(0, 600, 100)\n",
    "#print(lnspc2)\n",
    "pdf_exp = stats.expon.pdf(lnspc2,*EXP)\n",
    "plt.plot(lnspc2, pdf_exp, label=\"exp\")\n",
    "\n",
    "plt.show()"
   ]
  },
  {
   "cell_type": "code",
   "execution_count": null,
   "id": "prescription-silly",
   "metadata": {},
   "outputs": [],
   "source": []
  }
 ],
 "metadata": {
  "kernelspec": {
   "display_name": "Python 3",
   "language": "python",
   "name": "python3"
  },
  "language_info": {
   "codemirror_mode": {
    "name": "ipython",
    "version": 3
   },
   "file_extension": ".py",
   "mimetype": "text/x-python",
   "name": "python",
   "nbconvert_exporter": "python",
   "pygments_lexer": "ipython3",
   "version": "3.9.3"
  }
 },
 "nbformat": 4,
 "nbformat_minor": 5
}
